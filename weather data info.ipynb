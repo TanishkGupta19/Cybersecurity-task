{
 "cells": [
  {
   "cell_type": "code",
   "execution_count": 16,
   "id": "6e23fdfa",
   "metadata": {},
   "outputs": [],
   "source": [
    "import requests"
   ]
  },
  {
   "cell_type": "code",
   "execution_count": 17,
   "id": "01b6d1b8",
   "metadata": {},
   "outputs": [],
   "source": [
    "from datetime import datetime"
   ]
  },
  {
   "cell_type": "code",
   "execution_count": 18,
   "id": "dce041b3",
   "metadata": {},
   "outputs": [
    {
     "name": "stdout",
     "output_type": "stream",
     "text": [
      "Enter the city nameFirozabad\n"
     ]
    }
   ],
   "source": [
    "api_key = '9fdce94098fd0896042607009b763c38'\n",
    "location = input(\"Enter the city name\")"
   ]
  },
  {
   "cell_type": "code",
   "execution_count": 19,
   "id": "f8c90071",
   "metadata": {},
   "outputs": [],
   "source": [
    "complete_api_link = \"https://api.openweathermap.org/data/2.5/weather?q=\"+location+\"&appid=\"+api_key\n",
    "api_link = requests.get(complete_api_link)\n",
    "api_data = api_link.json()"
   ]
  },
  {
   "cell_type": "code",
   "execution_count": 20,
   "id": "c76b9012",
   "metadata": {},
   "outputs": [
    {
     "name": "stdout",
     "output_type": "stream",
     "text": [
      "----------------------------------------------------\n",
      "Weather Stats for - FIROZABAD || 23 Jun 21 | 02:39:51 AM\n",
      "----------------------------------------------------\n",
      "Current temperature is: 33.55 deg C\n",
      "Current weather desc : scattered clouds\n",
      "Current Humidity : 37 %\n",
      "Current wind speed : 2.95 kmph\n"
     ]
    }
   ],
   "source": [
    "# Create variables to store and display data\n",
    "\n",
    "temp_city = ((api_data['main']['temp']) - 273.15)\n",
    "weather_desc = api_data['weather'][0]['description']\n",
    "hmdt = api_data['main']['humidity']\n",
    "wind_spd = api_data['wind']['speed']\n",
    "date_time = datetime.now().strftime(\"%d %b %y | %I:%M:%S %p\")\n",
    "\n",
    "\n",
    "print(\"----------------------------------------------------\")\n",
    "print(\"Weather Stats for - {} || {}\".format(location.upper(), date_time))\n",
    "print(\"----------------------------------------------------\")\n",
    "\n",
    "\n",
    "print(\"Current temperature is: {:.2f} deg C\".format(temp_city))\n",
    "print(\"Current weather desc :\",weather_desc)\n",
    "print(\"Current Humidity :\",hmdt,'%')\n",
    "print(\"Current wind speed :\",wind_spd ,'kmph')"
   ]
  },
  {
   "cell_type": "code",
   "execution_count": null,
   "id": "af1addb8",
   "metadata": {},
   "outputs": [],
   "source": []
  },
  {
   "cell_type": "code",
   "execution_count": null,
   "id": "9167f2d2",
   "metadata": {},
   "outputs": [],
   "source": []
  }
 ],
 "metadata": {
  "kernelspec": {
   "display_name": "Python 3",
   "language": "python",
   "name": "python3"
  },
  "language_info": {
   "codemirror_mode": {
    "name": "ipython",
    "version": 3
   },
   "file_extension": ".py",
   "mimetype": "text/x-python",
   "name": "python",
   "nbconvert_exporter": "python",
   "pygments_lexer": "ipython3",
   "version": "3.8.8"
  }
 },
 "nbformat": 4,
 "nbformat_minor": 5
}
